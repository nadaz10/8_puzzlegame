{
  "nbformat": 4,
  "nbformat_minor": 0,
  "metadata": {
    "colab": {
      "provenance": [],
      "toc_visible": true,
      "include_colab_link": true
    },
    "kernelspec": {
      "name": "python3",
      "display_name": "Python 3"
    },
    "language_info": {
      "name": "python"
    }
  },
  "cells": [
    {
      "cell_type": "markdown",
      "metadata": {
        "id": "view-in-github",
        "colab_type": "text"
      },
      "source": [
        "<a href=\"https://colab.research.google.com/github/nadaz10/8_puzzlegame/blob/main/NLP_assignment1.ipynb\" target=\"_parent\"><img src=\"https://colab.research.google.com/assets/colab-badge.svg\" alt=\"Open In Colab\"/></a>"
      ]
    },
    {
      "cell_type": "markdown",
      "source": [
        "# Getting dataset"
      ],
      "metadata": {
        "id": "zhv37jNcClyn"
      }
    },
    {
      "cell_type": "code",
      "source": [
        "!pip install datasets"
      ],
      "metadata": {
        "colab": {
          "base_uri": "https://localhost:8080/"
        },
        "id": "ne9toyr5CkLp",
        "outputId": "c54b6f30-f39e-4c0a-f092-df6d6777b197"
      },
      "execution_count": 54,
      "outputs": [
        {
          "output_type": "stream",
          "name": "stdout",
          "text": [
            "Requirement already satisfied: datasets in /usr/local/lib/python3.10/dist-packages (2.18.0)\n",
            "Requirement already satisfied: filelock in /usr/local/lib/python3.10/dist-packages (from datasets) (3.13.1)\n",
            "Requirement already satisfied: numpy>=1.17 in /usr/local/lib/python3.10/dist-packages (from datasets) (1.25.2)\n",
            "Requirement already satisfied: pyarrow>=12.0.0 in /usr/local/lib/python3.10/dist-packages (from datasets) (14.0.2)\n",
            "Requirement already satisfied: pyarrow-hotfix in /usr/local/lib/python3.10/dist-packages (from datasets) (0.6)\n",
            "Requirement already satisfied: dill<0.3.9,>=0.3.0 in /usr/local/lib/python3.10/dist-packages (from datasets) (0.3.8)\n",
            "Requirement already satisfied: pandas in /usr/local/lib/python3.10/dist-packages (from datasets) (1.5.3)\n",
            "Requirement already satisfied: requests>=2.19.0 in /usr/local/lib/python3.10/dist-packages (from datasets) (2.31.0)\n",
            "Requirement already satisfied: tqdm>=4.62.1 in /usr/local/lib/python3.10/dist-packages (from datasets) (4.66.2)\n",
            "Requirement already satisfied: xxhash in /usr/local/lib/python3.10/dist-packages (from datasets) (3.4.1)\n",
            "Requirement already satisfied: multiprocess in /usr/local/lib/python3.10/dist-packages (from datasets) (0.70.16)\n",
            "Requirement already satisfied: fsspec[http]<=2024.2.0,>=2023.1.0 in /usr/local/lib/python3.10/dist-packages (from datasets) (2023.6.0)\n",
            "Requirement already satisfied: aiohttp in /usr/local/lib/python3.10/dist-packages (from datasets) (3.9.3)\n",
            "Requirement already satisfied: huggingface-hub>=0.19.4 in /usr/local/lib/python3.10/dist-packages (from datasets) (0.20.3)\n",
            "Requirement already satisfied: packaging in /usr/local/lib/python3.10/dist-packages (from datasets) (23.2)\n",
            "Requirement already satisfied: pyyaml>=5.1 in /usr/local/lib/python3.10/dist-packages (from datasets) (6.0.1)\n",
            "Requirement already satisfied: aiosignal>=1.1.2 in /usr/local/lib/python3.10/dist-packages (from aiohttp->datasets) (1.3.1)\n",
            "Requirement already satisfied: attrs>=17.3.0 in /usr/local/lib/python3.10/dist-packages (from aiohttp->datasets) (23.2.0)\n",
            "Requirement already satisfied: frozenlist>=1.1.1 in /usr/local/lib/python3.10/dist-packages (from aiohttp->datasets) (1.4.1)\n",
            "Requirement already satisfied: multidict<7.0,>=4.5 in /usr/local/lib/python3.10/dist-packages (from aiohttp->datasets) (6.0.5)\n",
            "Requirement already satisfied: yarl<2.0,>=1.0 in /usr/local/lib/python3.10/dist-packages (from aiohttp->datasets) (1.9.4)\n",
            "Requirement already satisfied: async-timeout<5.0,>=4.0 in /usr/local/lib/python3.10/dist-packages (from aiohttp->datasets) (4.0.3)\n",
            "Requirement already satisfied: typing-extensions>=3.7.4.3 in /usr/local/lib/python3.10/dist-packages (from huggingface-hub>=0.19.4->datasets) (4.10.0)\n",
            "Requirement already satisfied: charset-normalizer<4,>=2 in /usr/local/lib/python3.10/dist-packages (from requests>=2.19.0->datasets) (3.3.2)\n",
            "Requirement already satisfied: idna<4,>=2.5 in /usr/local/lib/python3.10/dist-packages (from requests>=2.19.0->datasets) (3.6)\n",
            "Requirement already satisfied: urllib3<3,>=1.21.1 in /usr/local/lib/python3.10/dist-packages (from requests>=2.19.0->datasets) (2.0.7)\n",
            "Requirement already satisfied: certifi>=2017.4.17 in /usr/local/lib/python3.10/dist-packages (from requests>=2.19.0->datasets) (2024.2.2)\n",
            "Requirement already satisfied: python-dateutil>=2.8.1 in /usr/local/lib/python3.10/dist-packages (from pandas->datasets) (2.8.2)\n",
            "Requirement already satisfied: pytz>=2020.1 in /usr/local/lib/python3.10/dist-packages (from pandas->datasets) (2023.4)\n",
            "Requirement already satisfied: six>=1.5 in /usr/local/lib/python3.10/dist-packages (from python-dateutil>=2.8.1->pandas->datasets) (1.16.0)\n"
          ]
        }
      ]
    },
    {
      "cell_type": "code",
      "source": [
        "from datasets import load_dataset, Dataset"
      ],
      "metadata": {
        "id": "z3D5D_RoDAhW"
      },
      "execution_count": 55,
      "outputs": []
    },
    {
      "cell_type": "code",
      "source": [
        "sst_dataset = load_dataset('sst')"
      ],
      "metadata": {
        "colab": {
          "base_uri": "https://localhost:8080/"
        },
        "id": "8NdKuRUsDJw7",
        "outputId": "7c93cacb-46ee-4815-cd41-ba346b15792d"
      },
      "execution_count": 56,
      "outputs": [
        {
          "output_type": "stream",
          "name": "stderr",
          "text": [
            "/usr/local/lib/python3.10/dist-packages/datasets/load.py:1461: FutureWarning: The repository for sst contains custom code which must be executed to correctly load the dataset. You can inspect the repository content at https://hf.co/datasets/sst\n",
            "You can avoid this message in future by passing the argument `trust_remote_code=True`.\n",
            "Passing `trust_remote_code=True` will be mandatory to load this dataset from the next major release of `datasets`.\n",
            "  warnings.warn(\n"
          ]
        }
      ]
    },
    {
      "cell_type": "code",
      "source": [
        "print(sst_dataset['train'][500])\n",
        "print(f\"Number of training examples: {len(sst_dataset['train'])}\")\n",
        "print(f\"Number of validation examples: {len(sst_dataset['validation'])}\")\n",
        "print(f\"Number of test examples: {len(sst_dataset['test'])}\")"
      ],
      "metadata": {
        "colab": {
          "base_uri": "https://localhost:8080/"
        },
        "id": "3xAHI1AxDKqm",
        "outputId": "c820e89b-8a04-4662-f16a-39e59d19096f"
      },
      "execution_count": 57,
      "outputs": [
        {
          "output_type": "stream",
          "name": "stdout",
          "text": [
            "{'sentence': 'This story still seems timely and important .', 'label': 0.6944400072097778, 'tokens': 'This|story|still|seems|timely|and|important|.', 'tree': '14|14|13|11|9|9|10|12|10|11|12|13|15|15|0'}\n",
            "Number of training examples: 8544\n",
            "Number of validation examples: 1101\n",
            "Number of test examples: 2210\n"
          ]
        }
      ]
    },
    {
      "cell_type": "markdown",
      "source": [
        "# Preprocessing"
      ],
      "metadata": {
        "id": "9IHBlanSB3eu"
      }
    },
    {
      "cell_type": "markdown",
      "source": [
        "Removing the 'tree' column and adjusting the labels to accomodate the 5 classes we want to classify to where:\n",
        "From 0 to 0.2 (0.2 included) will be class 0 “very negative”.\n",
        "\n",
        "From 0.2 to 0.4 (0.4 included) will be class 1 “negative”.\n",
        "\n",
        "From 0.4 to 0.6 (0.6 included) will be class 2 “neutral”.\n",
        "\n",
        "From 0.6 to 0.8 (0.8 included) will be class 3 “positive”.\n",
        "\n",
        "From 0.8 to 1.0 (1.0 included) will be class 4 “very positive”."
      ],
      "metadata": {
        "id": "a6rfAZ8_TfEK"
      }
    },
    {
      "cell_type": "code",
      "source": [
        "#converting splits to Pandas DataFrame for manipulation\n",
        "import pandas as pd\n",
        "train_df = pd.DataFrame(sst_dataset['train'])\n",
        "test_df = pd.DataFrame(sst_dataset['test'])\n",
        "val_df = pd.DataFrame(sst_dataset['validation'])\n",
        "\n",
        "#function to map float labels to our desired categorical classes\n",
        "def map_labels_to_categories(label):\n",
        "    if 0.0 <= label <= 0.2:\n",
        "        return 0  # very negative\n",
        "    elif 0.2 < label <= 0.4:\n",
        "        return 1  # negative\n",
        "    elif 0.4 < label <= 0.6:\n",
        "        return 2  # neutral\n",
        "    elif 0.6 < label <= 0.8:\n",
        "        return 3  # positive\n",
        "    elif 0.8 < label <= 1.0:\n",
        "        return 4  # very positive\n",
        "\n",
        "#mapping function to create a new column with mapped labels\n",
        "train_df['mapped_label'] = train_df['label'].apply(map_labels_to_categories)\n",
        "test_df['mapped_label'] = test_df['label'].apply(map_labels_to_categories)\n",
        "val_df['mapped_label'] = val_df['label'].apply(map_labels_to_categories)\n",
        "\n",
        "#dropping the original label column\n",
        "train_df = train_df.drop('label', axis=1)\n",
        "test_df = test_df.drop('label', axis=1)\n",
        "val_df = val_df.drop('label', axis=1)\n",
        "\n",
        "train_df = train_df.drop(columns=['tree']) #dropping 'tree' column\n",
        "test_df = test_df.drop(columns=['tree'])\n",
        "val_df = val_df.drop(columns=['tree'])\n",
        "\n",
        "\n",
        "#convert the DataFrame back to the datasets format\n",
        "sst_dataset['train'] = Dataset.from_pandas(train_df)\n",
        "sst_dataset['test'] = Dataset.from_pandas(test_df)\n",
        "sst_dataset['validation'] = Dataset.from_pandas(val_df)\n",
        "\n",
        "#display the updated dataset\n",
        "print(sst_dataset)"
      ],
      "metadata": {
        "colab": {
          "base_uri": "https://localhost:8080/"
        },
        "id": "s5EPCqgimpFE",
        "outputId": "6d66ef0d-9e3f-4588-8081-028c80aa1287"
      },
      "execution_count": 58,
      "outputs": [
        {
          "output_type": "stream",
          "name": "stdout",
          "text": [
            "DatasetDict({\n",
            "    train: Dataset({\n",
            "        features: ['sentence', 'tokens', 'mapped_label'],\n",
            "        num_rows: 8544\n",
            "    })\n",
            "    validation: Dataset({\n",
            "        features: ['sentence', 'tokens', 'mapped_label'],\n",
            "        num_rows: 1101\n",
            "    })\n",
            "    test: Dataset({\n",
            "        features: ['sentence', 'tokens', 'mapped_label'],\n",
            "        num_rows: 2210\n",
            "    })\n",
            "})\n"
          ]
        }
      ]
    },
    {
      "cell_type": "code",
      "source": [
        "#analyzing the distribution of labels\n",
        "train_label_distribution = train_df['mapped_label'].value_counts().sort_index()\n",
        "test_label_distribution = test_df['mapped_label'].value_counts().sort_index()\n",
        "val_label_distribution = val_df['mapped_label'].value_counts().sort_index()\n",
        "\n",
        "print(\"Training Split Label Distribution:\")\n",
        "print(train_label_distribution)\n",
        "\n",
        "print(\"\\nTest Split Label Distribution:\")\n",
        "print(test_label_distribution)\n",
        "\n",
        "print(\"\\nValidation Split Label Distribution:\")\n",
        "print(val_label_distribution)\n"
      ],
      "metadata": {
        "colab": {
          "base_uri": "https://localhost:8080/"
        },
        "id": "688DssCrsigk",
        "outputId": "e59e8ac6-0de2-4bad-d050-d07b1f684574"
      },
      "execution_count": 59,
      "outputs": [
        {
          "output_type": "stream",
          "name": "stdout",
          "text": [
            "Training Split Label Distribution:\n",
            "0    1092\n",
            "1    2218\n",
            "2    1624\n",
            "3    2322\n",
            "4    1288\n",
            "Name: mapped_label, dtype: int64\n",
            "\n",
            "Test Split Label Distribution:\n",
            "0    279\n",
            "1    633\n",
            "2    389\n",
            "3    510\n",
            "4    399\n",
            "Name: mapped_label, dtype: int64\n",
            "\n",
            "Validation Split Label Distribution:\n",
            "0    139\n",
            "1    289\n",
            "2    229\n",
            "3    279\n",
            "4    165\n",
            "Name: mapped_label, dtype: int64\n"
          ]
        }
      ]
    },
    {
      "cell_type": "markdown",
      "source": [
        "### Visualisation for us"
      ],
      "metadata": {
        "id": "GbDu1oUutxsT"
      }
    },
    {
      "cell_type": "code",
      "source": [
        "import matplotlib.pyplot as plt\n",
        "import pandas as pd\n",
        "train_df = pd.DataFrame(sst_dataset['train']) #convert the 'train' split to a Pandas DataFrame\n",
        "\n",
        "# Plot the distribution of mapped labels in the 'train' split\n",
        "train_df['mapped_label'].value_counts().sort_index().plot(kind='bar')\n",
        "plt.title('Distribution of Mapped Labels in the Train Split')\n",
        "plt.xlabel('Mapped Label')\n",
        "plt.ylabel('Count')\n",
        "plt.show()"
      ],
      "metadata": {
        "colab": {
          "base_uri": "https://localhost:8080/",
          "height": 467
        },
        "id": "5ZmT1vVBd1Fy",
        "outputId": "3afb3355-3e18-4159-b9d5-3d36c2bfcc67"
      },
      "execution_count": 60,
      "outputs": [
        {
          "output_type": "display_data",
          "data": {
            "text/plain": [
              "<Figure size 640x480 with 1 Axes>"
            ],
            "image/png": "[encoded data removed]"
          },
          "metadata": {}
        }
      ]
    },
    {
      "cell_type": "code",
      "source": [
        "# Print the first few rows of the 'train' split to see the transformed data\n",
        "print(train_df.head())\n",
        "\n",
        "# Check the unique values in the 'mapped_label' column of the 'train' split to ensure correct mapping\n",
        "print(train_df['mapped_label'].unique())\n",
        "\n",
        "# Check for missing values in the 'mapped_label' column of the 'train' split\n",
        "print(train_df['mapped_label'].isnull().sum())\n",
        "# # Print the first few rows of the 'train' split to see the transformed data\n",
        "# print(sst_dataset['train'].head())\n",
        "\n",
        "# # Check the unique values in the 'mapped_label' column of the 'train' split to ensure correct mapping\n",
        "# print(sst_dataset['train']['mapped_label'].unique())\n",
        "\n",
        "# # Check for missing values in the 'mapped_label' column of the 'train' split\n",
        "# print(sst_dataset['train']['mapped_label'].isnull().sum())"
      ],
      "metadata": {
        "colab": {
          "base_uri": "https://localhost:8080/"
        },
        "id": "i_iFiVO7TAe6",
        "outputId": "8ef91085-9cb2-4a6a-812a-7a19f737179f"
      },
      "execution_count": 61,
      "outputs": [
        {
          "output_type": "stream",
          "name": "stdout",
          "text": [
            "                                            sentence  \\\n",
            "0  The Rock is destined to be the 21st Century 's...   \n",
            "1  The gorgeously elaborate continuation of `` Th...   \n",
            "2  Singer\\/composer Bryan Adams contributes a sle...   \n",
            "3  You 'd think by now America would have had eno...   \n",
            "4               Yet the act is still charming here .   \n",
            "\n",
            "                                              tokens  mapped_label  \n",
            "0  The|Rock|is|destined|to|be|the|21st|Century|'s...             3  \n",
            "1  The|gorgeously|elaborate|continuation|of|``|Th...             4  \n",
            "2  Singer\\/composer|Bryan|Adams|contributes|a|sle...             3  \n",
            "3  You|'d|think|by|now|America|would|have|had|eno...             2  \n",
            "4               Yet|the|act|is|still|charming|here|.             3  \n",
            "[3 4 2 1 0]\n",
            "0\n"
          ]
        }
      ]
    },
    {
      "cell_type": "markdown",
      "source": [
        "## Naive Bayes\n"
      ],
      "metadata": {
        "id": "Ngi3yEz6q7rb"
      }
    },
    {
      "cell_type": "code",
      "source": [
        "import numpy as np\n",
        "\n",
        "def preprocess_data(data):\n",
        "    # Tokenize the text\n",
        "    tokens = [doc.split() for doc in data]\n",
        "\n",
        "    # Create a vocabulary\n",
        "    vocab = set(word for doc in tokens for word in doc)\n",
        "\n",
        "    # Convert text to bag-of-words representation\n",
        "    bow_representation = []\n",
        "    for doc in tokens:\n",
        "        bow = np.zeros(len(vocab))\n",
        "        for word in doc:\n",
        "            if word in vocab:\n",
        "                bow[vocab.index(word)] += 1\n",
        "        bow_representation.append(bow)\n",
        "\n",
        "    return bow_representation, vocab"
      ],
      "metadata": {
        "id": "yfBtEIQPq1bo"
      },
      "execution_count": null,
      "outputs": []
    },
    {
      "cell_type": "code",
      "source": [],
      "metadata": {
        "id": "sf6IBPCXvRuX"
      },
      "execution_count": null,
      "outputs": []
    },
    {
      "cell_type": "code",
      "source": [
        "def train_naive_bayes(data, labels, num_classes):\n",
        "    # Calculate the number of documents and the vocabulary size\n",
        "    num_docs = len(data)\n",
        "    vocab = set(word for doc in data for word in doc)\n",
        "\n",
        "    # Initialize the log prior and log likelihood matrices\n",
        "    log_prior = np.zeros(num_classes)\n",
        "    log_likelihood = np.zeros((len(vocab), num_classes))\n",
        "\n",
        "    # Calculate the log prior probabilities\n",
        "    for c in range(num_classes):\n",
        "        num_c = sum(1 for label in labels if label == c)\n",
        "        log_prior[c] = np.log(num_c / num_docs)\n",
        "\n",
        "    # Calculate the log likelihood probabilities\n",
        "    for c in range(num_classes):\n",
        "        class_docs = [doc for doc, label in zip(data, labels) if label == c]\n",
        "        for i, word in enumerate(vocab):\n",
        "            count = sum(doc[i] for doc in class_docs if i < len(doc))\n",
        "            log_likelihood[i, c] = np.log((count + 1) / (sum(doc[i] for doc in class_docs) + len(vocab)))\n",
        "\n",
        "    return log_prior, log_likelihood, vocab"
      ],
      "metadata": {
        "id": "F3gJUJX6rGBu"
      },
      "execution_count": null,
      "outputs": []
    },
    {
      "cell_type": "code",
      "source": [
        "def test_naive_bayes(test_doc, log_prior, log_likelihood, num_classes, vocab):\n",
        "    # Convert the test document to a bag-of-words representation\n",
        "    test_bow = np.zeros(len(vocab))\n",
        "    for i, word in enumerate(test_doc):\n",
        "        if word in vocab:\n",
        "            test_bow[vocab.index(word)] += 1\n",
        "\n",
        "    # Calculate the log probability for each class\n",
        "    log_prob = np.zeros(num_classes)\n",
        "    for c in range(num_classes):\n",
        "        log_prob[c] = log_prior[c] + np.sum(test_bow * log_likelihood[:, c])\n",
        "\n",
        "    # Return the class with the highest log probability\n",
        "    return np.argmax(log_prob)"
      ],
      "metadata": {
        "id": "DlXfyPLfrGId"
      },
      "execution_count": null,
      "outputs": []
    },
    {
      "cell_type": "markdown",
      "source": [
        "# Logistic Regression"
      ],
      "metadata": {
        "id": "XhtyVNHsJ3zM"
      }
    },
    {
      "cell_type": "code",
      "source": [
        "import numpy as np\n",
        "from scipy.sparse import lil_matrix\n",
        "import matplotlib.pyplot as plt\n"
      ],
      "metadata": {
        "id": "fqg5RdJfPoWm"
      },
      "execution_count": 62,
      "outputs": []
    },
    {
      "cell_type": "code",
      "source": [
        "import numpy as np\n",
        "\n",
        "def features_extract(data):\n",
        "    # Initialize a set to store sentence and bigrams pairs\n",
        "    sentence_bigrams_set = set()\n",
        "    unique_bigrams = set()\n",
        "\n",
        "    # Extract relevant information from the dataset\n",
        "    for i in range(len(data)+1):\n",
        "        # Initialize a list to store unique word bi-grams\n",
        "        sentence = data['sentence'][i]\n",
        "        tokens = data['tokens'][i].split('|')\n",
        "\n",
        "        # Build bigrams\n",
        "        bigrams = [f\"{tokens[j]} {tokens[j + 1]}\" for j in range(len(tokens) -1)]\n",
        "\n",
        "        # Add the pair to the set\n",
        "        sentence_bigrams_set.add((sentence, tuple(bigrams)))\n",
        "        unique_bigrams.update(set(bigrams))\n",
        "\n",
        "    # Create a list of unique words\n",
        "    unique_words = sorted(list(set(word for sentence in data['tokens'] for word in sentence.split('|'))))\n",
        "    print(unique_bigrams)\n",
        "    # Create a binary matrix to store bigram existence\n",
        "    bigram_matrix = np.zeros((len(unique_words), len(unique_words)), dtype=int)\n",
        "\n",
        "    # Populate the matrix\n",
        "    for i, word1 in enumerate(unique_words):\n",
        "        for j, word2 in enumerate(unique_words):\n",
        "            print(word1, word2)\n",
        "            current_bigram = f\"{word1} {word2}\"\n",
        "            if current_bigram in unique_bigrams:\n",
        "                print(\"!!!\")\n",
        "                bigram_matrix[i, j] = 1\n",
        "\n",
        "    return bigram_matrix, unique_words\n",
        "\n",
        "# Example usage with a dummy dataset\n",
        "sst_dataset = {\n",
        "    'tokens': [\"apple|orange|banana\", \"orange|grape|kiwi\", \"kiwi|banana|apple\"],\n",
        "    'sentence': [\"This is the first sentence.\", \"Another sentence here.\", \"And one more sentence.\"]\n",
        "}\n",
        "\n",
        "train_dataset = sst_dataset  # Replace with your actual dataset\n",
        "binary_bigram_matrix, unique_words = features_extract(train_dataset)\n",
        "\n",
        "# Print the resulting matrix\n",
        "print(\"Binary Bigram Matrix:\")\n",
        "print(binary_bigram_matrix)\n"
      ],
      "metadata": {
        "id": "YH67nqJLgl_Q"
      },
      "execution_count": null,
      "outputs": []
    },
    {
      "cell_type": "code",
      "source": [
        "def features_extract(data):\n",
        "    # Initialize a set to store sentence and bigrams pairs\n",
        "    sentence_bigrams_set = set()\n",
        "    unique_bigrams = set()\n",
        "    # Extract relevant information from the dataset\n",
        "    for i in range(len(data)):\n",
        "        # Initialize a list to store unique word bi-grams\n",
        "        sentence = data['sentence'][i]\n",
        "        tokens = data['tokens'][i].split('|')\n",
        "\n",
        "        # Build bigrams\n",
        "        bigrams = [f\"{tokens[j]} {tokens[j + 1]}\" for j in range(len(tokens) - 1)]\n",
        "        # print(bigrams)\n",
        "        # Add the pair to the set\n",
        "\n",
        "        sentence_bigrams_set.add((sentence, tuple(bigrams)))\n",
        "        unique_bigrams.update(set(bigrams))\n",
        "\n",
        "        # Create a list of unique words\n",
        "    unique_words = sorted(list(set(word for sentence in data['tokens'] for word in sentence.split('|'))))\n",
        "\n",
        "        # Create a binary matrix to store bigram existence\n",
        "    bigram_matrix = np.zeros((len(unique_words), len(unique_words)), dtype=int)\n",
        "\n",
        "        # Populate the matrix\n",
        "    for i, word1 in enumerate(unique_words):\n",
        "            for j, word2 in enumerate(unique_words):\n",
        "              current_bigram = f\"{word1} {word2}\"\n",
        "              if current_bigram in unique_bigrams:\n",
        "                  print(\"!!!\")\n",
        "                  bigram_matrix[i, j] = 1\n",
        "    return bigram_matrix, unique_words\n",
        "\n",
        "\n",
        "\n",
        "# Assuming you have a dataset named 'sst_dataset'\n",
        "train_dataset = sst_dataset['train']\n",
        "sentence_bigrams_set, unique_words = features_extract(train_dataset)\n",
        "\n",
        "# # Print the resulting set\n",
        "# for sentence, bigrams in sentence_bigrams_set:\n",
        "#     print(\"Sentence:\", sentence)\n",
        "#     print(\"Bigrams:\", bigrams)\n",
        "#     print()\n",
        "\n"
      ],
      "metadata": {
        "id": "xxhS6wtyXArv"
      },
      "execution_count": null,
      "outputs": []
    },
    {
      "cell_type": "code",
      "source": [
        "# Check the sum of the matrix\n",
        "matrix_sum = np.sum(sentence_bigrams_set)\n",
        "print(\"Sum of the matrix:\", matrix_sum)\n",
        "plt.imshow(sentence_bigrams_set, cmap='binary', interpolation='nearest')\n",
        "plt.title('Binary Bigram Matrix Visualization')\n",
        "plt.show()"
      ],
      "metadata": {
        "id": "xE-VEmCRH_8q"
      },
      "execution_count": null,
      "outputs": []
    },
    {
      "cell_type": "code",
      "source": [
        "import numpy as np\n",
        "import matplotlib.pyplot as plt\n",
        "\n",
        "class MultiClassLogisticRegression:\n",
        "\n",
        "    def __init__(self, n_iter = 10000, thres=1e-3):\n",
        "        self.n_iter = n_iter\n",
        "        self.thres = thres\n",
        "        self.classes = ['0','1','2','3','4']\n",
        "        self.class_labels = ['0','1','2','3','4']\n",
        "\n",
        "    def fit(self, X, y, batch_size=64, lr=0.001, rand_seed=4, verbose=False):\n",
        "        np.random.seed(rand_seed)\n",
        "        self.classes = np.unique(y)\n",
        "        self.class_labels = {c:i for i,c in enumerate(self.classes)}\n",
        "        X = self.add_bias(X)\n",
        "        y = self.one_hot(y)\n",
        "        self.loss = []\n",
        "        self.weights = np.zeros(shape=(len(self.classes),X.shape[1]))\n",
        "        self.fit_data(X, y, batch_size, lr, verbose)\n",
        "        return self\n",
        "\n",
        "    def fit_data(self, X, y, batch_size, lr, verbose):\n",
        "        i = 0\n",
        "        while (not self.n_iter or i < self.n_iter):\n",
        "            self.loss.append(self.cross_entropy(y, self.predict_(X)))\n",
        "            idx = np.random.choice(X.shape[0], batch_size)\n",
        "            X_batch, y_batch = X[idx], y[idx]\n",
        "            error = y_batch - self.predict_(X_batch)\n",
        "            update = (lr * np.dot(error.T, X_batch))\n",
        "            self.weights += update\n",
        "            if np.abs(update).max() < self.thres: break\n",
        "            if i % 1000 == 0 and verbose:\n",
        "                print(' Training Accuray at {} iterations is {}'.format(i, self.evaluate_(X, y)))\n",
        "            i +=1\n",
        "\n",
        "    def predict(self, X):\n",
        "        return self.predict_(self.add_bias(X))\n",
        "\n",
        "    def predict_(self, X):\n",
        "        pre_vals = np.dot(X, self.weights.T).reshape(-1,len(self.classes))\n",
        "        return self.softmax(pre_vals)\n",
        "    def softmax(self, z):\n",
        "        return np.exp(z) / np.sum(np.exp(z), axis=1).reshape(-1,1)\n",
        "\n",
        "    def predict_classes(self, X):\n",
        "        self.probs_ = self.predict(X)\n",
        "        return np.vectorize(lambda c: self.classes[c])(np.argmax(self.probs_, axis=1))\n",
        "\n",
        "    def add_bias(self,X):\n",
        "        return np.insert(X, 0, 1, axis=1)\n",
        "\n",
        "    def get_randon_weights(self, row, col):\n",
        "        return np.zeros(shape=(row,col))\n",
        "\n",
        "    def one_hot(self, y):\n",
        "        return np.eye(len(self.classes))[np.vectorize(lambda c: self.class_labels[c])(y).reshape(-1)]\n",
        "\n",
        "    def score(self, X, y):\n",
        "        return np.mean(self.predict_classes(X) == y)\n",
        "\n",
        "    def evaluate_(self, X, y):\n",
        "        return np.mean(np.argmax(self.predict_(X), axis=1) == np.argmax(y, axis=1))\n",
        "\n",
        "    def cross_entropy(self, y, probs):\n",
        "        return -1 * np.mean(y * np.log(probs))\n",
        "\n",
        "\n",
        "\n",
        "multireg = MultiClassLogisticRegression()\n",
        "y_hot = multireg.one_hot(train_dataset['mapped_label'])\n",
        "multireg.fit(sentence_bigrams_set,y_hot)\n",
        "print(multireg.score(sentence_bigrams_set,y_hot))"
      ],
      "metadata": {
        "id": "sLsr65wXrxvu",
        "outputId": "d4a56e08-b200-477c-e506-15de7534876b",
        "colab": {
          "base_uri": "https://localhost:8080/",
          "height": 349
        }
      },
      "execution_count": 81,
      "outputs": [
        {
          "output_type": "error",
          "ename": "IndexError",
          "evalue": "arrays used as indices must be of integer (or boolean) type",
          "traceback": [
            "\u001b[0;31m---------------------------------------------------------------------------\u001b[0m",
            "\u001b[0;31mIndexError\u001b[0m                                Traceback (most recent call last)",
            "\u001b[0;32m<ipython-input-81-b7922e9f4915>\u001b[0m in \u001b[0;36m<cell line: 71>\u001b[0;34m()\u001b[0m\n\u001b[1;32m     69\u001b[0m \u001b[0;34m\u001b[0m\u001b[0m\n\u001b[1;32m     70\u001b[0m \u001b[0mmultireg\u001b[0m \u001b[0;34m=\u001b[0m \u001b[0mMultiClassLogisticRegression\u001b[0m\u001b[0;34m(\u001b[0m\u001b[0;34m)\u001b[0m\u001b[0;34m\u001b[0m\u001b[0;34m\u001b[0m\u001b[0m\n\u001b[0;32m---> 71\u001b[0;31m \u001b[0my_hot\u001b[0m \u001b[0;34m=\u001b[0m \u001b[0mmultireg\u001b[0m\u001b[0;34m.\u001b[0m\u001b[0mone_hot\u001b[0m\u001b[0;34m(\u001b[0m\u001b[0mtrain_dataset\u001b[0m\u001b[0;34m[\u001b[0m\u001b[0;34m'mapped_label'\u001b[0m\u001b[0;34m]\u001b[0m\u001b[0;34m)\u001b[0m\u001b[0;34m\u001b[0m\u001b[0;34m\u001b[0m\u001b[0m\n\u001b[0m\u001b[1;32m     72\u001b[0m \u001b[0mmultireg\u001b[0m\u001b[0;34m.\u001b[0m\u001b[0mfit\u001b[0m\u001b[0;34m(\u001b[0m\u001b[0msentence_bigrams_set\u001b[0m\u001b[0;34m,\u001b[0m\u001b[0my_hot\u001b[0m\u001b[0;34m)\u001b[0m\u001b[0;34m\u001b[0m\u001b[0;34m\u001b[0m\u001b[0m\n\u001b[1;32m     73\u001b[0m \u001b[0mprint\u001b[0m\u001b[0;34m(\u001b[0m\u001b[0mmultireg\u001b[0m\u001b[0;34m.\u001b[0m\u001b[0mscore\u001b[0m\u001b[0;34m(\u001b[0m\u001b[0msentence_bigrams_set\u001b[0m\u001b[0;34m,\u001b[0m\u001b[0my_hot\u001b[0m\u001b[0;34m)\u001b[0m\u001b[0;34m)\u001b[0m\u001b[0;34m\u001b[0m\u001b[0;34m\u001b[0m\u001b[0m\n",
            "\u001b[0;32m<ipython-input-81-b7922e9f4915>\u001b[0m in \u001b[0;36mone_hot\u001b[0;34m(self, y)\u001b[0m\n\u001b[1;32m     55\u001b[0m \u001b[0;34m\u001b[0m\u001b[0m\n\u001b[1;32m     56\u001b[0m     \u001b[0;32mdef\u001b[0m \u001b[0mone_hot\u001b[0m\u001b[0;34m(\u001b[0m\u001b[0mself\u001b[0m\u001b[0;34m,\u001b[0m \u001b[0my\u001b[0m\u001b[0;34m)\u001b[0m\u001b[0;34m:\u001b[0m\u001b[0;34m\u001b[0m\u001b[0;34m\u001b[0m\u001b[0m\n\u001b[0;32m---> 57\u001b[0;31m         \u001b[0;32mreturn\u001b[0m \u001b[0mnp\u001b[0m\u001b[0;34m.\u001b[0m\u001b[0meye\u001b[0m\u001b[0;34m(\u001b[0m\u001b[0mlen\u001b[0m\u001b[0;34m(\u001b[0m\u001b[0mself\u001b[0m\u001b[0;34m.\u001b[0m\u001b[0mclasses\u001b[0m\u001b[0;34m)\u001b[0m\u001b[0;34m)\u001b[0m\u001b[0;34m[\u001b[0m\u001b[0mnp\u001b[0m\u001b[0;34m.\u001b[0m\u001b[0mvectorize\u001b[0m\u001b[0;34m(\u001b[0m\u001b[0;32mlambda\u001b[0m \u001b[0mc\u001b[0m\u001b[0;34m:\u001b[0m \u001b[0mself\u001b[0m\u001b[0;34m.\u001b[0m\u001b[0mclass_labels\u001b[0m\u001b[0;34m[\u001b[0m\u001b[0mc\u001b[0m\u001b[0;34m]\u001b[0m\u001b[0;34m)\u001b[0m\u001b[0;34m(\u001b[0m\u001b[0my\u001b[0m\u001b[0;34m)\u001b[0m\u001b[0;34m.\u001b[0m\u001b[0mreshape\u001b[0m\u001b[0;34m(\u001b[0m\u001b[0;34m-\u001b[0m\u001b[0;36m1\u001b[0m\u001b[0;34m)\u001b[0m\u001b[0;34m]\u001b[0m\u001b[0;34m\u001b[0m\u001b[0;34m\u001b[0m\u001b[0m\n\u001b[0m\u001b[1;32m     58\u001b[0m \u001b[0;34m\u001b[0m\u001b[0m\n\u001b[1;32m     59\u001b[0m     \u001b[0;32mdef\u001b[0m \u001b[0mscore\u001b[0m\u001b[0;34m(\u001b[0m\u001b[0mself\u001b[0m\u001b[0;34m,\u001b[0m \u001b[0mX\u001b[0m\u001b[0;34m,\u001b[0m \u001b[0my\u001b[0m\u001b[0;34m)\u001b[0m\u001b[0;34m:\u001b[0m\u001b[0;34m\u001b[0m\u001b[0;34m\u001b[0m\u001b[0m\n",
            "\u001b[0;31mIndexError\u001b[0m: arrays used as indices must be of integer (or boolean) type"
          ]
        }
      ]
    },
    {
      "cell_type": "code",
      "source": [
        "import numpy as np\n",
        "\n",
        "def softmax(Z):\n",
        "    exp_Z = np.exp(Z - np.max(Z, axis=1, keepdims=True))\n",
        "    return exp_Z / np.sum(exp_Z, axis=1, keepdims=True)\n",
        "\n",
        "def one_hot(y):\n",
        "        return np.eye(len(self.classes))[np.vectorize(lambda c: self.class_labels[c])(y).reshape(-1)]\n",
        "\n",
        "def initialize_parameters(num_features, num_classes):\n",
        "    W = np.random.randn(num_features, num_classes) * 0.01\n",
        "    b = np.zeros((1, num_classes))\n",
        "    return W, b\n",
        "\n",
        "def forward_propagation(X, W, b):\n",
        "    Z = np.dot(X, W) + b\n",
        "    A = softmax(Z)\n",
        "    return A\n",
        "\n",
        "def compute_loss(A, Y):\n",
        "    m = Y.shape[0]\n",
        "    loss = -np.sum(Y * np.log(A + 1e-8)) / m  # Add a small constant to avoid log(0)\n",
        "    return loss\n",
        "\n",
        "\n",
        "def backward_propagation(X, A, Y):\n",
        "    m = X.shape[0]\n",
        "    dZ = A - Y\n",
        "    dW = np.dot(X.T, dZ) / m\n",
        "    db = np.sum(dZ, axis=0, keepdims=True) / m\n",
        "    return dW, db\n",
        "\n",
        "def update_parameters(W, b, dW, db, learning_rate):\n",
        "    W -= learning_rate * dW\n",
        "    b -= learning_rate * db\n",
        "    return W, b\n",
        "\n",
        "def train_multiclass_logistic_regression(X, Y, num_classes, learning_rate, num_epochs):\n",
        "        np.random.seed(rand_seed)\n",
        "        self.classes = np.unique(y)\n",
        "        self.class_labels = {c:i for i,c in enumerate(self.classes)}\n",
        "        X = self.add_bias(X)\n",
        "        y = self.one_hot(y)\n",
        "        self.loss = []\n",
        "        self.weights = np.zeros(shape=(len(self.classes),X.shape[1]))\n",
        "        self.fit_data(X, y, batch_size, lr, verbose)\n",
        "        return self\n",
        "\n",
        "    def fit_data(self, X, y, batch_size, lr, verbose):\n",
        "        i = 0\n",
        "        while (not self.n_iter or i < self.n_iter):\n",
        "            self.loss.append(self.cross_entropy(y, self.predict_(X)))\n",
        "            idx = np.random.choice(X.shape[0], batch_size)\n",
        "            X_batch, y_batch = X[idx], y[idx]\n",
        "            error = y_batch - self.predict_(X_batch)\n",
        "            update = (lr * np.dot(error.T, X_batch))\n",
        "            self.weights += update\n",
        "            if np.abs(update).max() < self.thres: break\n",
        "            if i % 1000 == 0 and verbose:\n",
        "                print(' Training Accuray at {} iterations is {}'.format(i, self.evaluate_(X, y)))\n",
        "            i +=1\n",
        "\n",
        "\n",
        "\n",
        "# One-hot encode the labels\n",
        "Y_train = one_hot(train_dataset['mapped_label'], num_classes=5)\n",
        "\n",
        "# Training\n",
        "num_epochs = 1000\n",
        "learning_rate = 0.01\n",
        "num_classes = 3\n",
        "\n",
        "trained_W, trained_b = train_multiclass_logistic_regression(sentence_bigrams_set, Y_train, num_classes, learning_rate, num_epochs)\n"
      ],
      "metadata": {
        "id": "yOft7Ap-Khrr",
        "outputId": "458b5133-9c96-4fc3-e1a0-a3c6db2d9367",
        "colab": {
          "base_uri": "https://localhost:8080/",
          "height": 373
        }
      },
      "execution_count": 77,
      "outputs": [
        {
          "output_type": "error",
          "ename": "IndexError",
          "evalue": "shape mismatch: indexing arrays could not be broadcast together with shapes (8544,) (8544,5) ",
          "traceback": [
            "\u001b[0;31m---------------------------------------------------------------------------\u001b[0m",
            "\u001b[0;31mIndexError\u001b[0m                                Traceback (most recent call last)",
            "\u001b[0;32m<ipython-input-77-d0562b826106>\u001b[0m in \u001b[0;36m<cell line: 93>\u001b[0;34m()\u001b[0m\n\u001b[1;32m     91\u001b[0m \u001b[0mnum_classes\u001b[0m \u001b[0;34m=\u001b[0m \u001b[0;36m3\u001b[0m\u001b[0;34m\u001b[0m\u001b[0;34m\u001b[0m\u001b[0m\n\u001b[1;32m     92\u001b[0m \u001b[0;34m\u001b[0m\u001b[0m\n\u001b[0;32m---> 93\u001b[0;31m \u001b[0mtrained_W\u001b[0m\u001b[0;34m,\u001b[0m \u001b[0mtrained_b\u001b[0m \u001b[0;34m=\u001b[0m \u001b[0mtrain_multiclass_logistic_regression\u001b[0m\u001b[0;34m(\u001b[0m\u001b[0msentence_bigrams_set\u001b[0m\u001b[0;34m,\u001b[0m \u001b[0mY_train\u001b[0m\u001b[0;34m,\u001b[0m \u001b[0mnum_classes\u001b[0m\u001b[0;34m,\u001b[0m \u001b[0mlearning_rate\u001b[0m\u001b[0;34m,\u001b[0m \u001b[0mnum_epochs\u001b[0m\u001b[0;34m)\u001b[0m\u001b[0;34m\u001b[0m\u001b[0;34m\u001b[0m\u001b[0m\n\u001b[0m",
            "\u001b[0;32m<ipython-input-77-d0562b826106>\u001b[0m in \u001b[0;36mtrain_multiclass_logistic_regression\u001b[0;34m(X, Y, num_classes, learning_rate, num_epochs)\u001b[0m\n\u001b[1;32m     61\u001b[0m \u001b[0;34m\u001b[0m\u001b[0m\n\u001b[1;32m     62\u001b[0m         \u001b[0;31m# Compute one-hot encoded labels\u001b[0m\u001b[0;34m\u001b[0m\u001b[0;34m\u001b[0m\u001b[0m\n\u001b[0;32m---> 63\u001b[0;31m         \u001b[0mencoded_labels\u001b[0m \u001b[0;34m=\u001b[0m \u001b[0mone_hot_encode\u001b[0m\u001b[0;34m(\u001b[0m\u001b[0mY\u001b[0m\u001b[0;34m,\u001b[0m \u001b[0mnum_classes\u001b[0m\u001b[0;34m)\u001b[0m\u001b[0;34m\u001b[0m\u001b[0;34m\u001b[0m\u001b[0m\n\u001b[0m\u001b[1;32m     64\u001b[0m \u001b[0;34m\u001b[0m\u001b[0m\n\u001b[1;32m     65\u001b[0m         \u001b[0;31m# Compute loss\u001b[0m\u001b[0;34m\u001b[0m\u001b[0;34m\u001b[0m\u001b[0m\n",
            "\u001b[0;32m<ipython-input-77-d0562b826106>\u001b[0m in \u001b[0;36mone_hot_encode\u001b[0;34m(labels, num_classes)\u001b[0m\n\u001b[1;32m     19\u001b[0m         \u001b[0mlabels\u001b[0m \u001b[0;34m=\u001b[0m \u001b[0mlabels\u001b[0m\u001b[0;34m.\u001b[0m\u001b[0msqueeze\u001b[0m\u001b[0;34m(\u001b[0m\u001b[0;34m)\u001b[0m\u001b[0;34m\u001b[0m\u001b[0;34m\u001b[0m\u001b[0m\n\u001b[1;32m     20\u001b[0m \u001b[0;34m\u001b[0m\u001b[0m\n\u001b[0;32m---> 21\u001b[0;31m     \u001b[0mencoded_labels\u001b[0m\u001b[0;34m[\u001b[0m\u001b[0mnp\u001b[0m\u001b[0;34m.\u001b[0m\u001b[0marange\u001b[0m\u001b[0;34m(\u001b[0m\u001b[0mnum_samples\u001b[0m\u001b[0;34m)\u001b[0m\u001b[0;34m,\u001b[0m \u001b[0mlabels\u001b[0m\u001b[0;34m]\u001b[0m \u001b[0;34m=\u001b[0m \u001b[0;36m1\u001b[0m\u001b[0;34m\u001b[0m\u001b[0;34m\u001b[0m\u001b[0m\n\u001b[0m\u001b[1;32m     22\u001b[0m     \u001b[0;32mreturn\u001b[0m \u001b[0mencoded_labels\u001b[0m\u001b[0;34m\u001b[0m\u001b[0;34m\u001b[0m\u001b[0m\n\u001b[1;32m     23\u001b[0m \u001b[0;34m\u001b[0m\u001b[0m\n",
            "\u001b[0;31mIndexError\u001b[0m: shape mismatch: indexing arrays could not be broadcast together with shapes (8544,) (8544,5) "
          ]
        }
      ]
    },
    {
      "cell_type": "code",
      "source": [
        "\n",
        "import numpy as np\n",
        "\n",
        "# Assuming you have a binary bigram matrix\n",
        "np.set_printoptions(threshold=np.inf)\n",
        "\n",
        "# Print the entire binary bigram matrix\n",
        "print(\"Binary Bigram Matrix:\")\n",
        "print(sentence_bigrams_set)"
      ],
      "metadata": {
        "id": "eTRHiR4lDcGT"
      },
      "execution_count": null,
      "outputs": []
    },
    {
      "cell_type": "code",
      "source": [
        "def features_extract(data):\n",
        "    # Initialize a set to store unique word bi-grams\n",
        "    unique_bi_grams = set()\n",
        "\n",
        "    # Extract relevant information from the dataset\n",
        "    for i in range(len(data)):\n",
        "        tokens = data['tokens'][i].split('|')\n",
        "\n",
        "        # Build unique bigrams\n",
        "        bigrams = {f\"{tokens[j]} {tokens[j + 1]}\" for j in range(len(tokens) - 1)}\n",
        "\n",
        "        # Update the set of unique bi-grams\n",
        "        unique_bi_grams.update(bigrams)\n",
        "\n",
        "    # Create a vocabulary mapping bi-grams to indices\n",
        "    vocabulary = {bi_gram: i for i, bi_gram in enumerate(unique_bi_grams)}\n",
        "\n",
        "    # Initialize a sparse matrix to store the features\n",
        "    num_samples = len(data)\n",
        "    num_features = len(vocabulary)\n",
        "    features = lil_matrix((num_samples, num_features), dtype=np.int8)\n",
        "\n",
        "    # Fill the sparse matrix with 1s where the bi-gram exists in each sentence\n",
        "    for i in range(len(data)):\n",
        "        tokens = data['tokens'][i].split('|')\n",
        "        sentence_bigrams = {f\"{tokens[j]} {tokens[j + 1]}\" for j in range(len(tokens) - 1)}\n",
        "\n",
        "        for bi_gram in sentence_bigrams:\n",
        "            if bi_gram in vocabulary:\n",
        "                features[i, vocabulary[bi_gram]] = 1\n",
        "\n",
        "    return features, vocabulary\n",
        "\n",
        "# Assuming you have a dataset named 'sst_dataset'\n",
        "train_dataset = sst_dataset['train']\n",
        "X_train_sparse_features, vocabulary = features_extract(train_dataset)"
      ],
      "metadata": {
        "id": "X9Xfihl7q94Y"
      },
      "execution_count": 68,
      "outputs": []
    },
    {
      "cell_type": "code",
      "source": [
        "print(X_train_sparse_features)"
      ],
      "metadata": {
        "id": "SX3IWA-wotWj"
      },
      "execution_count": null,
      "outputs": []
    },
    {
      "cell_type": "code",
      "source": [],
      "metadata": {
        "id": "a_XDsuV2CbQV"
      },
      "execution_count": null,
      "outputs": []
    }
  ]
}